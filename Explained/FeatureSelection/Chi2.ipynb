{
 "cells": [
  {
   "cell_type": "code",
   "execution_count": 116,
   "metadata": {
    "collapsed": true
   },
   "outputs": [],
   "source": [
    "import pandas as pd\n",
    "import numpy as np\n",
    "import matplotlib.pyplot as plt\n",
    "from sklearn.ensemble import RandomForestClassifier\n",
    "from matplotlib import cm\n",
    "from sklearn.feature_selection import chi2\n",
    "from scipy import stats"
   ]
  },
  {
   "cell_type": "markdown",
   "source": [
    "# Chi -squared test\n",
    "Pearson's chi-squared test is used to determine whether there is a\n",
    "statistically significant difference between the expected frequencies and\n",
    "the observed frequencies in one or more categories of a contingency table.\n",
    "\n",
    "$ {\\displaystyle \\chi ^{2}=\\sum _{i=1}^{n}{\\frac {(O_{i}-E_{i})^{2}}{E_{i}}}=N\\sum _{i=1}^{n}{\\frac {\\left(O_{i}/N-p_{i}\\right)^{2}}{p_{i}}}}$\n",
    "\n",
    "$\\chi ^{2} $ - Pearson's cumulative test statistic, which asymptotically\n",
    "approaches a $ \\chi ^{2} $ distribution.\n",
    "${\\displaystyle O_{i}}O_{i} $= the number of observations of type i.\n",
    "\n",
    "$ N $= total number of observations\n",
    "\n",
    "${\\displaystyle E_{i}=Np_{i}}E_{i} $= the expected (theoretical) count\n",
    "of type i, asserted by the null hypothesis that the fraction of type i in the\n",
    " population is ${\\displaystyle p_{i}}p_{i}$\n",
    "\n",
    "$ n $ the number of cells in the table.\n",
    "\n",
    "Degrees of freedom:\n",
    "${\\displaystyle ({\\text{number of rows}}-1)({\\text{number of columns}}-1)}$\n",
    "\n",
    "# Expected:\n",
    "$E_{ij} = {\\frac{O_{i.}O_{.j}} {O_{..}}}$\n",
    "where:\n",
    "* Oi. - marginal total of row i\n",
    "* O.j - marginal total of column j\n",
    "* O.. - grand total (sum of totals of rows or sum of totals of columns - the\n",
    "same)"
   ],
   "metadata": {
    "collapsed": false
   }
  },
  {
   "cell_type": "markdown",
   "source": [
    "# 1. Prepare data"
   ],
   "metadata": {
    "collapsed": false,
    "pycharm": {
     "name": "#%% md\n"
    }
   }
  },
  {
   "cell_type": "code",
   "execution_count": 117,
   "outputs": [
    {
     "data": {
      "text/plain": "(2019, 12)"
     },
     "execution_count": 117,
     "metadata": {},
     "output_type": "execute_result"
    }
   ],
   "source": [
    "df = pd.read_csv('../Data/test_Feb22.csv', index_col=0)\n",
    "train = df[df['target'].isna() == False].copy()\n",
    "train.shape"
   ],
   "metadata": {
    "collapsed": false,
    "pycharm": {
     "name": "#%%\n"
    }
   }
  },
  {
   "cell_type": "markdown",
   "source": [
    "# 1. Chi-squared\n",
    "* Generate a contingency table"
   ],
   "metadata": {
    "collapsed": false
   }
  },
  {
   "cell_type": "code",
   "execution_count": 118,
   "outputs": [],
   "source": [
    "def contingency_table(train, feature):\n",
    "    contingency = train[[feature, 'target']].pivot_table(aggfunc='size',\n",
    "       index='target', columns=[feature])\n",
    "    return contingency"
   ],
   "metadata": {
    "collapsed": false,
    "pycharm": {
     "name": "#%%\n"
    }
   }
  },
  {
   "cell_type": "markdown",
   "source": [
    "### Checking p-values"
   ],
   "metadata": {
    "collapsed": false,
    "pycharm": {
     "name": "#%% md\n"
    }
   }
  },
  {
   "cell_type": "code",
   "execution_count": 119,
   "outputs": [
    {
     "name": "stdout",
     "output_type": "stream",
     "text": [
      "292.25294990134813\n",
      "P-value of the feature1: 0.00000\n",
      "3.3029644986317175\n",
      "P-value of the feature2: 0.06915\n"
     ]
    }
   ],
   "source": [
    "features = ['feature1', 'feature2']\n",
    "for feature in features:\n",
    "    # Create contingency table\n",
    "    cont = contingency_table(train, feature)\n",
    "\n",
    "    # Check p-value\n",
    "    chisq, pvalue, df, expected = \\\n",
    "        stats.chi2_contingency(cont, correction=False)\n",
    "    print(chisq)\n",
    "    print(f'P-value of the {feature}: {pvalue:.5f}')"
   ],
   "metadata": {
    "collapsed": false,
    "pycharm": {
     "name": "#%%\n"
    }
   }
  },
  {
   "cell_type": "markdown",
   "source": [
    "### Sklearn has a different implementation of chi-2, but the same result:"
   ],
   "metadata": {
    "collapsed": false
   }
  },
  {
   "cell_type": "code",
   "execution_count": 120,
   "outputs": [
    {
     "name": "stdout",
     "output_type": "stream",
     "text": [
      "P-value of the feature1: 0.00000\n",
      "P-value of the feature2: 0.19469\n"
     ]
    }
   ],
   "source": [
    "from sklearn.feature_selection import chi2\n",
    "chi2_values, p_values = chi2(train[features], train['target'])\n",
    "for i, feature in enumerate(features):\n",
    "    print(f'P-value of the {feature}: {p_values[i]:.5f}')"
   ],
   "metadata": {
    "collapsed": false,
    "pycharm": {
     "name": "#%%\n"
    }
   }
  },
  {
   "cell_type": "markdown",
   "source": [
    "## Insight:\n",
    "* Feature 1 - low p-value, good feature.\n",
    "* Feature 2 - p-value is over 0.05 standard, may be removed."
   ],
   "metadata": {
    "collapsed": false,
    "pycharm": {
     "name": "#%% md\n"
    }
   }
  },
  {
   "cell_type": "markdown",
   "source": [
    "Check chi-2 by hand\n",
    "1. Generate contingency table\n",
    "2. Find marginal totals\n",
    "3. Find expected values\n",
    "4. Find chi2 (observed-expected)^2/expected"
   ],
   "metadata": {
    "collapsed": false,
    "pycharm": {
     "name": "#%% md\n"
    }
   }
  },
  {
   "cell_type": "markdown",
   "source": [
    "1. Generate contingency table"
   ],
   "metadata": {
    "collapsed": false,
    "pycharm": {
     "name": "#%% md\n"
    }
   }
  },
  {
   "cell_type": "code",
   "execution_count": 121,
   "outputs": [
    {
     "data": {
      "text/plain": "target    0.0  1.0\nfeature1          \n0         562  218\n1         409  830",
      "text/html": "<div>\n<style scoped>\n    .dataframe tbody tr th:only-of-type {\n        vertical-align: middle;\n    }\n\n    .dataframe tbody tr th {\n        vertical-align: top;\n    }\n\n    .dataframe thead th {\n        text-align: right;\n    }\n</style>\n<table border=\"1\" class=\"dataframe\">\n  <thead>\n    <tr style=\"text-align: right;\">\n      <th>target</th>\n      <th>0.0</th>\n      <th>1.0</th>\n    </tr>\n    <tr>\n      <th>feature1</th>\n      <th></th>\n      <th></th>\n    </tr>\n  </thead>\n  <tbody>\n    <tr>\n      <th>0</th>\n      <td>562</td>\n      <td>218</td>\n    </tr>\n    <tr>\n      <th>1</th>\n      <td>409</td>\n      <td>830</td>\n    </tr>\n  </tbody>\n</table>\n</div>"
     },
     "execution_count": 121,
     "metadata": {},
     "output_type": "execute_result"
    }
   ],
   "source": [
    "crosstab = pd.crosstab(columns=train['target'], index=train['feature1'])\n",
    "crosstab"
   ],
   "metadata": {
    "collapsed": false,
    "pycharm": {
     "name": "#%%\n"
    }
   }
  },
  {
   "cell_type": "markdown",
   "source": [
    "3. Find marginal totals"
   ],
   "metadata": {
    "collapsed": false,
    "pycharm": {
     "name": "#%% md\n"
    }
   }
  },
  {
   "cell_type": "code",
   "execution_count": 130,
   "outputs": [
    {
     "data": {
      "text/plain": "target            0.0     1.0  MarginalTotals\nfeature1                                     \n0               562.0   218.0           971.0\n1               409.0   830.0          1048.0\nMarginalTotals  780.0  1239.0          2019.0",
      "text/html": "<div>\n<style scoped>\n    .dataframe tbody tr th:only-of-type {\n        vertical-align: middle;\n    }\n\n    .dataframe tbody tr th {\n        vertical-align: top;\n    }\n\n    .dataframe thead th {\n        text-align: right;\n    }\n</style>\n<table border=\"1\" class=\"dataframe\">\n  <thead>\n    <tr style=\"text-align: right;\">\n      <th>target</th>\n      <th>0.0</th>\n      <th>1.0</th>\n      <th>MarginalTotals</th>\n    </tr>\n    <tr>\n      <th>feature1</th>\n      <th></th>\n      <th></th>\n      <th></th>\n    </tr>\n  </thead>\n  <tbody>\n    <tr>\n      <th>0</th>\n      <td>562.0</td>\n      <td>218.0</td>\n      <td>971.0</td>\n    </tr>\n    <tr>\n      <th>1</th>\n      <td>409.0</td>\n      <td>830.0</td>\n      <td>1048.0</td>\n    </tr>\n    <tr>\n      <th>MarginalTotals</th>\n      <td>780.0</td>\n      <td>1239.0</td>\n      <td>2019.0</td>\n    </tr>\n  </tbody>\n</table>\n</div>"
     },
     "execution_count": 130,
     "metadata": {},
     "output_type": "execute_result"
    }
   ],
   "source": [
    "crosstab_marg = crosstab.copy()\n",
    "crosstab_marg['MarginalTotals'] = pd.Series([crosstab[0].sum(), crosstab[1].sum()])\n",
    "crosstab_marg.loc['MarginalTotals'] = \\\n",
    "    pd.Series([crosstab.loc[0].sum(), crosstab.loc[1].sum()])\n",
    "crosstab_marg.loc['MarginalTotals', 'MarginalTotals'] = crosstab.sum().sum()\n",
    "crosstab_marg"
   ],
   "metadata": {
    "collapsed": false,
    "pycharm": {
     "name": "#%%\n"
    }
   }
  },
  {
   "cell_type": "markdown",
   "source": [
    "4. Find expected values"
   ],
   "metadata": {
    "collapsed": false
   }
  },
  {
   "cell_type": "code",
   "execution_count": 124,
   "outputs": [
    {
     "name": "stdout",
     "output_type": "stream",
     "text": [
      "375.1263001485884 404.8736998514116 595.8736998514116 643.1263001485884\n"
     ]
    }
   ],
   "source": [
    "total_sum = crosstab.sum().sum()\n",
    "t_0_f_0_ex = crosstab[0].sum() * crosstab.loc[0].sum() / total_sum\n",
    "t_1_f_0_ex = crosstab[1].sum() * crosstab.loc[0].sum() / total_sum\n",
    "t_0_f_1_ex = crosstab[0].sum() * crosstab.loc[1].sum() / total_sum\n",
    "t_1_t_1_ex = crosstab[1].sum() * crosstab.loc[1].sum() / total_sum\n",
    "expected_list = [t_0_f_0_ex, t_1_f_0_ex, t_0_f_1_ex, t_1_t_1_ex]\n",
    "observed_list = [crosstab.loc[0, 0], crosstab.loc[0, 1], crosstab.loc[1, 0],\n",
    "                 crosstab.loc[1, 1]]\n",
    "print(t_0_f_0_ex, t_1_f_0_ex, t_0_f_1_ex, t_1_t_1_ex)"
   ],
   "metadata": {
    "collapsed": false,
    "pycharm": {
     "name": "#%%\n"
    }
   }
  },
  {
   "cell_type": "code",
   "source": [
    "def chi2_my(observed, expected):\n",
    "    return np.square(observed - expected) / expected"
   ],
   "metadata": {
    "collapsed": false,
    "pycharm": {
     "name": "#%%\n"
    }
   },
   "execution_count": 125,
   "outputs": []
  },
  {
   "cell_type": "code",
   "execution_count": 126,
   "outputs": [
    {
     "data": {
      "text/plain": "292.25294990134813"
     },
     "execution_count": 126,
     "metadata": {},
     "output_type": "execute_result"
    }
   ],
   "source": [
    "chi2_value = 0\n",
    "for i in range(0,4):\n",
    "    chi2_value += chi2_my(observed_list[i], expected_list[i])\n",
    "chi2_value"
   ],
   "metadata": {
    "collapsed": false,
    "pycharm": {
     "name": "#%%\n"
    }
   }
  },
  {
   "cell_type": "code",
   "execution_count": 127,
   "outputs": [
    {
     "name": "stdout",
     "output_type": "stream",
     "text": [
      "P value: 0.0000000000\n"
     ]
    }
   ],
   "source": [
    "from scipy import stats\n",
    "print(f'P value: {stats.chi2.sf(chi2_value, df=1):.10f}')"
   ],
   "metadata": {
    "collapsed": false,
    "pycharm": {
     "name": "#%%\n"
    }
   }
  }
 ],
 "metadata": {
  "kernelspec": {
   "display_name": "Python 3",
   "language": "python",
   "name": "python3"
  },
  "language_info": {
   "codemirror_mode": {
    "name": "ipython",
    "version": 2
   },
   "file_extension": ".py",
   "mimetype": "text/x-python",
   "name": "python",
   "nbconvert_exporter": "python",
   "pygments_lexer": "ipython2",
   "version": "2.7.6"
  }
 },
 "nbformat": 4,
 "nbformat_minor": 0
}