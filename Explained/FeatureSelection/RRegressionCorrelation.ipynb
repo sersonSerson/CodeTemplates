{
 "cells": [
  {
   "cell_type": "code",
   "execution_count": 7,
   "metadata": {
    "collapsed": true
   },
   "outputs": [],
   "source": [
    "import pandas as pd\n",
    "import numpy as np\n",
    "import matplotlib.pyplot as plt\n",
    "import seaborn as sns\n",
    "from sklearn.preprocessing import LabelEncoder\n",
    "from sklearn.feature_selection import r_regression"
   ]
  },
  {
   "cell_type": "markdown",
   "source": [
    "# Correlation coefficient\n",
    "# Only for linear dependencies\n",
    "The correlation coefficient ― is a measure of linear correlation between\n",
    "two sets of data. It is the ratio between the covariance of two variables and\n",
    "the product of their standard deviations; thus it is essentially a normalised\n",
    "measurement of the covariance, such that the result always has a value between\n",
    "−1 and 1. As with covariance itself, the measure can only reflect a linear\n",
    "correlation of variables, and ignores many other types of relationship or\n",
    "correlation."
   ],
   "metadata": {
    "collapsed": false,
    "pycharm": {
     "name": "#%% md\n"
    }
   }
  },
  {
   "cell_type": "code",
   "execution_count": 8,
   "outputs": [],
   "source": [
    "titanic = pd.read_csv('../data/titanic.csv')\n",
    "titanic = titanic[['Pclass', 'Sex', 'Age', 'Fare', 'Parch', 'SibSp',\n",
    "                   'Survived']]\n",
    "titanic.dropna(inplace=True)\n",
    "X = titanic[['Pclass', 'Sex', 'Age', 'Fare', 'Parch', 'SibSp']].copy()\n",
    "X['Sex'] = LabelEncoder().fit_transform(X['Sex'])\n",
    "y = titanic['Survived']"
   ],
   "metadata": {
    "collapsed": false,
    "pycharm": {
     "name": "#%%\n"
    }
   }
  },
  {
   "cell_type": "markdown",
   "source": [
    "## Check correlations"
   ],
   "metadata": {
    "collapsed": false,
    "pycharm": {
     "name": "#%% md\n"
    }
   }
  },
  {
   "cell_type": "code",
   "execution_count": 31,
   "outputs": [
    {
     "data": {
      "text/plain": "Pclass   -0.35965\nSex      -0.53883\nAge      -0.07722\nFare      0.26819\nParch     0.09332\nSibSp    -0.01736\ndtype: float64"
     },
     "execution_count": 31,
     "metadata": {},
     "output_type": "execute_result"
    }
   ],
   "source": [
    "pd.set_option('display.float_format', lambda x: '%.5f' % x)\n",
    "r_stat = r_regression(X, y)\n",
    "p_series = pd.Series(r_stat, index=X.columns, dtype='float')\n",
    "p_series"
   ],
   "metadata": {
    "collapsed": false,
    "pycharm": {
     "name": "#%%\n"
    }
   }
  },
  {
   "cell_type": "code",
   "execution_count": 20,
   "outputs": [
    {
     "data": {
      "text/plain": "Age     -0.07722\nParch    0.09332\nSibSp   -0.01736\ndtype: float64"
     },
     "execution_count": 20,
     "metadata": {},
     "output_type": "execute_result"
    }
   ],
   "source": [
    "min_correlation = 0.25\n",
    "redundant = p_series[p_series.abs() < min_correlation]\n",
    "redundant"
   ],
   "metadata": {
    "collapsed": false,
    "pycharm": {
     "name": "#%%\n"
    }
   }
  },
  {
   "cell_type": "markdown",
   "source": [
    "# Calculate by hand for 'Sex' feature"
   ],
   "metadata": {
    "collapsed": false,
    "pycharm": {
     "name": "#%% md\n"
    }
   }
  },
  {
   "cell_type": "code",
   "execution_count": 61,
   "outputs": [
    {
     "data": {
      "text/plain": "-0.12761794759979728"
     },
     "execution_count": 61,
     "metadata": {},
     "output_type": "execute_result"
    }
   ],
   "source": [
    "covariance =  ((X['Sex'] - X['Sex'].mean()) * (y - y.mean())).sum() / \\\n",
    "              (len(X) - 1)\n",
    "covariance"
   ],
   "metadata": {
    "collapsed": false,
    "pycharm": {
     "name": "#%%\n"
    }
   }
  },
  {
   "cell_type": "code",
   "execution_count": 62,
   "outputs": [
    {
     "data": {
      "text/plain": "-0.5388255930146355"
     },
     "execution_count": 62,
     "metadata": {},
     "output_type": "execute_result"
    }
   ],
   "source": [
    "correlation = covariance / (X['Sex'].std() * y.std())\n",
    "correlation"
   ],
   "metadata": {
    "collapsed": false,
    "pycharm": {
     "name": "#%%\n"
    }
   }
  }
 ],
 "metadata": {
  "kernelspec": {
   "display_name": "Python 3",
   "language": "python",
   "name": "python3"
  },
  "language_info": {
   "codemirror_mode": {
    "name": "ipython",
    "version": 2
   },
   "file_extension": ".py",
   "mimetype": "text/x-python",
   "name": "python",
   "nbconvert_exporter": "python",
   "pygments_lexer": "ipython2",
   "version": "2.7.6"
  }
 },
 "nbformat": 4,
 "nbformat_minor": 0
}